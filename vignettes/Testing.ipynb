{
 "cells": [
  {
   "cell_type": "markdown",
   "id": "20b07421-24d9-45b5-9413-4da8e0d95f1c",
   "metadata": {},
   "source": [
    "# Preliminaries"
   ]
  },
  {
   "cell_type": "code",
   "execution_count": null,
   "id": "b8e7f144-9e42-49d3-a0e3-cdb9cf688e97",
   "metadata": {},
   "outputs": [],
   "source": [
    "options(jupyter.plot_scale=1,\n",
    "        width=200,\n",
    "        repr.matrix.max.cols=200,\n",
    "        repr.matrix.max.rows=Inf)"
   ]
  },
  {
   "cell_type": "code",
   "execution_count": null,
   "id": "696e673d-b607-4f8b-bc17-bc56ffdf0312",
   "metadata": {},
   "outputs": [],
   "source": [
    "require(devtools)\n",
    "remake <- TRUE\n",
    "if (remake) {\n",
    "    remove.packages(\"standardcor\")\n",
    "}\n",
    "if (! require(\"standardcor\")) {\n",
    "    install_github(\"PriceLab/standardcor\")\n",
    "    require(\"standardcor\")\n",
    "}"
   ]
  },
  {
   "cell_type": "code",
   "execution_count": null,
   "id": "5d3467bf-dee8-419b-afb2-2f59b3048484",
   "metadata": {},
   "outputs": [],
   "source": [
    "println <- function(...) { cat(noquote(paste(...,\"\\n\"))) }\n"
   ]
  },
  {
   "cell_type": "markdown",
   "id": "e78c75eb-7329-49aa-b076-5e76d626eff0",
   "metadata": {},
   "source": [
    "# Documentation"
   ]
  },
  {
   "cell_type": "code",
   "execution_count": null,
   "id": "dd330110-c64a-4894-ae6f-bb471fa6e919",
   "metadata": {},
   "outputs": [],
   "source": [
    "ls(\"package:standardcor\")"
   ]
  },
  {
   "cell_type": "code",
   "execution_count": null,
   "id": "def8b264-7f83-4e32-a0e0-e2285b4de562",
   "metadata": {},
   "outputs": [],
   "source": [
    "?standardcor::standardcor"
   ]
  },
  {
   "cell_type": "code",
   "execution_count": null,
   "id": "e546c4ce-9b05-46fc-ab20-ff1f5d85bb4a",
   "metadata": {},
   "outputs": [],
   "source": [
    "?standardcor::SparsifiedRanks2"
   ]
  },
  {
   "cell_type": "code",
   "execution_count": null,
   "id": "e9aabdd4-52d1-48f4-b41b-eccd180cde17",
   "metadata": {},
   "outputs": [],
   "source": [
    "?standardcor::SparseSpearmanCor2"
   ]
  },
  {
   "cell_type": "code",
   "execution_count": null,
   "id": "9279b3bf-9826-4da5-9199-bc663ef07f73",
   "metadata": {},
   "outputs": [],
   "source": [
    "?standardcor::betaDistance"
   ]
  },
  {
   "cell_type": "code",
   "execution_count": null,
   "id": "9bc64b6d-d6c9-4bdd-875f-dbcbb98a615d",
   "metadata": {},
   "outputs": [],
   "source": [
    "?standardcor::centerBeta"
   ]
  },
  {
   "cell_type": "code",
   "execution_count": null,
   "id": "39d3cdc5-01f2-484f-bf96-ff458d8a9ff7",
   "metadata": {},
   "outputs": [],
   "source": [
    "?standardcor::estimateShape"
   ]
  },
  {
   "cell_type": "markdown",
   "id": "a8af91c3-34c8-49c9-9a4e-8e237fa8d4a4",
   "metadata": {},
   "source": [
    "### Estimating Beta distributions -- additional details"
   ]
  },
  {
   "cell_type": "markdown",
   "id": "b1c5b995-bc98-42cd-861c-0a2735adeaea",
   "metadata": {},
   "source": [
    "\n",
    "The Method of Moments estimates the Beta distribution from the mean and the variance,\n",
    "neither of which is robust to outliers. There is no closed-form representation of\n",
    "the median of the Beta distribution, but there is one for the mode. Here I will\n",
    "use the observed mode and its density to make a second estimate of $v$ and $w$.\n",
    "The estimate from the mean tends to underestimate $z = v+w$, while the estimate from the\n",
    "mode tends to overestimate $z$. Together, they provide the ability to trim\n",
    "outliers and repeat the Method of Moments estimate of the mean, $mu = v / z$.\n",
    "We then combine this mean with the better estimate of $z$.\n",
    "\n",
    "To estimate from the mode, note that\n",
    "$$\\begin{align}\n",
    "{\\rm dbeta}(x \\mid v,w) &= Pr\\{ x \\mid x \\sim Beta{(v,w)} \\}\\\\ \n",
    " &= \\frac{x^{(v-1)} (1-x)^{(w-1)}}{{\\rm Beta}{(v,w)}}.\n",
    "\\end{align}$$\n",
    "This is maximized at the mode $m = (v-1) / (z-2)$. We can estimate the mode and its\n",
    "density $D_m = {\\rm dbeta}{(m \\mid v, w)}$ by considering density within small intervals.\n",
    "We then optimize an estimate of $z$ to match $m$ and $D_m$; a reasonable heuristic\n",
    "starting point is $z = 2 D_m^2$. The estimates of $v$ and $w$ from $m$ and $z$ are\n",
    "$$\n",
    "\\begin{align}\n",
    "v &= 1 + m (z-2),\\\\ \n",
    "w &= z - v.\n",
    "\\end{align}\n",
    "$$\n"
   ]
  },
  {
   "cell_type": "code",
   "execution_count": null,
   "id": "2102b5ea-f4cb-41df-9040-da6e1a7a8ee9",
   "metadata": {},
   "outputs": [],
   "source": [
    "?standardcor::euclidDistance"
   ]
  },
  {
   "cell_type": "code",
   "execution_count": null,
   "id": "05e301ed-4788-436c-aa37-51cd923a7143",
   "metadata": {},
   "outputs": [],
   "source": [
    "?standardcor::powerDistance"
   ]
  },
  {
   "cell_type": "code",
   "execution_count": null,
   "id": "4eecf3b0-afda-4e2a-98a3-417513e49e47",
   "metadata": {},
   "outputs": [],
   "source": [
    "?standardcor::sigmoidDistance"
   ]
  },
  {
   "cell_type": "code",
   "execution_count": null,
   "id": "5d989aa0-b30d-4e50-b22a-a0af9b7df433",
   "metadata": {},
   "outputs": [],
   "source": [
    "?standardcor::multiOmicModel"
   ]
  },
  {
   "cell_type": "code",
   "execution_count": null,
   "id": "6683989a-e8c2-4bc8-a6d8-3ae9e6c974d9",
   "metadata": {},
   "outputs": [],
   "source": [
    "?standardcor::standardizeFromModel"
   ]
  },
  {
   "cell_type": "markdown",
   "id": "e89ebe54-152e-4204-bb2c-04e73e3facd7",
   "metadata": {
    "editable": true,
    "slideshow": {
     "slide_type": ""
    },
    "tags": []
   },
   "source": [
    "# Exploring betaDistance.R"
   ]
  },
  {
   "cell_type": "code",
   "execution_count": null,
   "id": "b3f3cd75-f205-49ee-80da-cf565b80af57",
   "metadata": {},
   "outputs": [],
   "source": [
    "R <- c(-100:100)/100 ; R <- ifelse(R < -1, -1, ifelse(1 < R, 1, R))\n",
    "\n",
    "par(mfrow=c(2,2))\n",
    "\n",
    "plot(R,betaDistance(R,1,1,mix=0,unsigned=FALSE),type='l',lwd=3, ylim=c(0,1),\n",
    "     xlab=\"Correlation coefficient\", ylab=\"Beta Distance\",\n",
    "    main = \"Beta(v = 1, w = 1), signed, unmixed\")\n",
    "abline(h=c(-1:1),col='grey') ; abline(v=c(0,1),col='grey')\n",
    "\n",
    "plot(R,betaDistance(R, 3, 6, mix=0, unsigned=FALSE),type='l',lwd=3, ylim=c(0,1),\n",
    "     xlab=\"Correlation coefficient\", ylab=\"Beta Distance\",\n",
    "    main = \"Beta(v = 3, w = 6), signed, unmixed\")\n",
    "abline(h=c(-1:1),col='grey') ; abline(v=c(0,1),col='grey')\n",
    "\n",
    "plot(R,betaDistance(R, 6, 3, mix=0,unsigned=FALSE),type='l',lwd=3, ylim=c(0,1),\n",
    "     xlab=\"Correlation coefficient\", ylab=\"Beta Distance\",\n",
    "    main = \"Beta(v = 6, w = 3), signed, unmixed\")\n",
    "abline(h=c(-1:1),col='grey') ; abline(v=c(0,1),col='grey')\n",
    "\n",
    "plot(R,betaDistance(R, 30, 30,mix=0,unsigned=FALSE),type='l',lwd=3, ylim=c(0,1),\n",
    "     xlab=\"Correlation coefficient\", ylab=\"Beta Distance\",\n",
    "    main = \"Beta(v = 30, w = 30), signed, unmixed\")\n",
    "abline(h=c(-1:1),col='grey') ; abline(v=c(0,1),col='grey')"
   ]
  },
  {
   "cell_type": "code",
   "execution_count": null,
   "id": "14fdd4ee-b0fc-4f89-a7fd-82400b6b744b",
   "metadata": {},
   "outputs": [],
   "source": [
    "R <- c(-100:100)/100 ; R <- ifelse(R < -1, -1, ifelse(1 < R, 1, R))\n",
    "\n",
    "par(mfrow=c(2,2))\n",
    "\n",
    "plot(R,betaDistance(R,1,1,mix=1,unsigned=FALSE),type='l',lwd=3,\n",
    "     xlab=\"Correlation coefficient\", ylab=\"Beta Distance\",\n",
    "    main = \"Beta(v = 1, w = 1), signed, mixed\")\n",
    "abline(h=c(-1:1),col='grey') ; abline(v=c(0,1),col='grey')\n",
    "\n",
    "plot(R,betaDistance(R, 3, 6, mix=1, unsigned=FALSE),type='l',lwd=3,\n",
    "     xlab=\"Correlation coefficient\", ylab=\"Beta Distance\",\n",
    "    main = \"Beta(v = 3, w = 6), signed, mixed\")\n",
    "abline(h=c(-1:1),col='grey') ; abline(v=c(0,1),col='grey')\n",
    "\n",
    "plot(R,betaDistance(R, 6, 3, mix=1,unsigned=FALSE),type='l',lwd=3,\n",
    "     xlab=\"Correlation coefficient\", ylab=\"Beta Distance\",\n",
    "    main = \"Beta(v = 6, w = 3), signed, mixed\")\n",
    "abline(h=c(-1:1),col='grey') ; abline(v=c(0,1),col='grey')\n",
    "\n",
    "plot(R,betaDistance(R, 30, 30,mix=1,unsigned=FALSE),type='l',lwd=3,\n",
    "     xlab=\"Correlation coefficient\", ylab=\"Beta Distance\",\n",
    "    main = \"Beta(v = 30, w = 30), signed, mixed\")\n",
    "abline(h=c(-1:1),col='grey') ; abline(v=c(0,1),col='grey')"
   ]
  },
  {
   "cell_type": "code",
   "execution_count": null,
   "id": "c92bca8f-0152-4c52-89b5-a6b8d56d5b23",
   "metadata": {},
   "outputs": [],
   "source": [
    "R <- c(-100:100)/100 ; R <- ifelse(R < -1, -1, ifelse(1 < R, 1, R))\n",
    "\n",
    "par(mfrow=c(2,2))\n",
    "\n",
    "plot(R,betaDistance(R,1,1,mix=0),type='l',lwd=3, ylim=c(0,1),\n",
    "     xlab=\"Correlation coefficient\", ylab=\"Beta Distance\",\n",
    "    main = \"Beta(v = 1, w = 1), unsigned, unmixed\")\n",
    "abline(h=c(-1:1),col='grey') ; abline(v=c(0,1),col='grey')\n",
    "\n",
    "plot(R,betaDistance(R, 3, 6, mix=0),type='l',lwd=3, ylim=c(0,1),\n",
    "     xlab=\"Correlation coefficient\", ylab=\"Beta Distance\",\n",
    "    main = \"Beta(v = 3, w = 6), unsigned, unmixed\")\n",
    "abline(h=c(-1:1),col='grey') ; abline(v=c(0,1),col='grey')\n",
    "\n",
    "plot(R,betaDistance(R, 6, 3, mix=0),type='l',lwd=3, ylim=c(0,1),\n",
    "     xlab=\"Correlation coefficient\", ylab=\"Beta Distance\",\n",
    "    main = \"Beta(v = 6, w = 3), unsigned, unmixed\")\n",
    "abline(h=c(-1:1),col='grey') ; abline(v=c(0,1),col='grey')\n",
    "\n",
    "plot(R,betaDistance(R, 30, 30,mix=0),type='l',lwd=3, ylim=c(0,1),\n",
    "     xlab=\"Correlation coefficient\", ylab=\"Beta Distance\",\n",
    "    main = \"Beta(v = 30, w = 30), unsigned, unmixed\")\n",
    "abline(h=c(-1:1),col='grey') ; abline(v=c(0,1),col='grey')"
   ]
  },
  {
   "cell_type": "code",
   "execution_count": null,
   "id": "a28ad526-4a48-4610-8d04-0895d57f9294",
   "metadata": {},
   "outputs": [],
   "source": [
    "R <- c(-100:100)/100 ; R <- ifelse(R < -1, -1, ifelse(1 < R, 1, R))\n",
    "\n",
    "par(mfrow=c(2,2))\n",
    "\n",
    "plot(R,betaDistance(R,1,1),type='l',lwd=3, ylim=c(0,1),\n",
    "     xlab=\"Correlation coefficient\", ylab=\"Beta Distance\",\n",
    "    main = \"Beta(v = 1, w = 1), unsigned, mixed\")\n",
    "abline(h=c(-1:1),col='grey') ; abline(v=c(0,1),col='grey')\n",
    "\n",
    "plot(R,betaDistance(R, 3, 6),type='l',lwd=3, ylim=c(0,1),\n",
    "     xlab=\"Correlation coefficient\", ylab=\"Beta Distance\",\n",
    "    main = \"Beta(v = 3, w = 6), unsigned, mixed\")\n",
    "abline(h=c(-1:1),col='grey') ; abline(v=c(0,1),col='grey')\n",
    "\n",
    "plot(R,betaDistance(R, 6, 3),type='l',lwd=3, ylim=c(0,1),\n",
    "     xlab=\"Correlation coefficient\", ylab=\"Beta Distance\",\n",
    "    main = \"Beta(v = 6, w = 3), unsigned, mixed\")\n",
    "abline(h=c(-1:1),col='grey') ; abline(v=c(0,1),col='grey')\n",
    "\n",
    "plot(R,betaDistance(R, 30, 30),type='l',lwd=3, ylim=c(0,1),\n",
    "     xlab=\"Correlation coefficient\", ylab=\"Beta Distance\",\n",
    "    main = \"Beta(v = 30, w = 30), unsigned, mixed\")\n",
    "abline(h=c(-1:1),col='grey') ; abline(v=c(0,1),col='grey')"
   ]
  },
  {
   "cell_type": "markdown",
   "id": "30e2018b-aef9-4e57-8f02-764134910ac3",
   "metadata": {},
   "source": [
    "# Exploring powerDistance.R"
   ]
  },
  {
   "cell_type": "code",
   "execution_count": null,
   "id": "e4f76429-6105-4eba-81e0-f8f34fe0abb3",
   "metadata": {},
   "outputs": [],
   "source": [
    "R <- c(-100:100)/100 ; R <- ifelse(R < -1, -1, ifelse(1 < R, 1, R))\n",
    "\n",
    "par(mfrow=c(2,2))\n",
    "\n",
    "plot(R,powerDistance(R,k=3,unsigned=FALSE),type='l',lwd=3, ylim=c(0,1),\n",
    "     xlab=\"Correlation coefficient\", ylab=\"Power Distance\",\n",
    "    main = \"k = 3, unsigned\")\n",
    "abline(h=c(-1:1),col='grey') ; abline(v=c(0,1),col='grey')\n",
    "\n",
    "plot(R,powerDistance(R,k=6, unsigned=FALSE),type='l',lwd=3, ylim=c(0,1),\n",
    "     xlab=\"Correlation coefficient\", ylab=\"Power Distance\",\n",
    "    main = \"k = 6, unsigned\")\n",
    "abline(h=c(-1:1),col='grey') ; abline(v=c(0,1),col='grey')\n",
    "\n",
    "plot(R,powerDistance(R,k=12, unsigned=FALSE),type='l',lwd=3, ylim=c(0,1),\n",
    "     xlab=\"Correlation coefficient\", ylab=\"Power Distance\",\n",
    "    main = \"k = 12, unsigned\")\n",
    "abline(h=c(-1:1),col='grey') ; abline(v=c(0,1),col='grey')\n",
    "\n",
    "plot(R,powerDistance(R,k=0.5, unsigned=FALSE),type='l',lwd=3, ylim=c(0,1),\n",
    "     xlab=\"Correlation coefficient\", ylab=\"Power Distance\",\n",
    "    main = \"k = 0.5, unsigned\")\n",
    "abline(h=c(-1:1),col='grey') ; abline(v=c(0,1),col='grey')"
   ]
  },
  {
   "cell_type": "code",
   "execution_count": null,
   "id": "6846867a-ed28-4367-ab5c-6554356465b2",
   "metadata": {},
   "outputs": [],
   "source": [
    "R <- c(-100:100)/100 ; R <- ifelse(R < -1, -1, ifelse(1 < R, 1, R))\n",
    "\n",
    "par(mfrow=c(2,2))\n",
    "\n",
    "plot(R,powerDistance(R,k=3),type='l',lwd=3, ylim=c(0,1),\n",
    "     xlab=\"Correlation coefficient\", ylab=\"Power Distance\",\n",
    "    main = \"k = 3, unsigned\")\n",
    "abline(h=c(-1:1),col='grey') ; abline(v=c(0,1),col='grey')\n",
    "\n",
    "plot(R,powerDistance(R,k=6),type='l',lwd=3, ylim=c(0,1),\n",
    "     xlab=\"Correlation coefficient\", ylab=\"Power Distance\",\n",
    "    main = \"k = 6, unsigned\")\n",
    "abline(h=c(-1:1),col='grey') ; abline(v=c(0,1),col='grey')\n",
    "\n",
    "plot(R,powerDistance(R,k=12),type='l',lwd=3, ylim=c(0,1),\n",
    "     xlab=\"Correlation coefficient\", ylab=\"Power Distance\",\n",
    "    main = \"k = 12, unsigned\")\n",
    "abline(h=c(-1:1),col='grey') ; abline(v=c(0,1),col='grey')\n",
    "\n",
    "plot(R,powerDistance(R,k=0.5),type='l',lwd=3, ylim=c(0,1),\n",
    "     xlab=\"Correlation coefficient\", ylab=\"Power Distance\",\n",
    "    main = \"k = 0.5, unsigned\")\n",
    "abline(h=c(-1:1),col='grey') ; abline(v=c(0,1),col='grey')"
   ]
  },
  {
   "cell_type": "markdown",
   "id": "65bb34b1-22d3-4ba9-aa2a-bca5648dcb6a",
   "metadata": {},
   "source": [
    "# Exploring sigmoidDistance.R"
   ]
  },
  {
   "cell_type": "code",
   "execution_count": null,
   "id": "a4a2f8ea-f6ee-45e0-a7fd-f678aba2b9cc",
   "metadata": {},
   "outputs": [],
   "source": [
    "R <- c(-100:100)/100 ; R <- ifelse(R < -1, -1, ifelse(1 < R, 1, R))\n",
    "\n",
    "par(mfrow=c(2,2))\n",
    "\n",
    "plot(R,sigmoidDistance(R,alpha=5,tau0 = 0,unsigned=FALSE),type='l',lwd=3,\n",
    "     xlab=\"Correlation coefficient\", ylab=\"Sigmoid Distance\",\n",
    "    main = \"sigmoid(5, 0), unsigned\",ylim=c(0,1))\n",
    "abline(v=c(-1:1),col='grey') ; abline(h=c(0,1),col='grey')\n",
    "abline(h=0.5, lty=2, col='grey')\n",
    "\n",
    "plot(R,sigmoidDistance(R,alpha=5,tau0 = 1,unsigned=FALSE),type='l',lwd=3,\n",
    "     xlab=\"Correlation coefficient\", ylab=\"Sigmoid Distance\",\n",
    "    main = \"sigmoid(5, 1), unsigned\",ylim=c(0,1))\n",
    "abline(v=c(-1:1),col='grey') ; abline(h=c(0,1),col='grey')\n",
    "abline(h=0.5, lty=2, col='grey')\n",
    "\n",
    "plot(R,sigmoidDistance(R,alpha=25,tau0 = -0.5,unsigned=FALSE),type='l',lwd=3,\n",
    "     xlab=\"Correlation coefficient\", ylab=\"Sigmoid Distance\",\n",
    "    main = \"sigmoid(25, -1/2), unsigned\",ylim=c(0,1))\n",
    "abline(v=c(-1:1),col='grey') ; abline(h=c(0,1),col='grey')\n",
    "abline(h=0.5, lty=2, col='grey')\n",
    "\n",
    "plot(R,sigmoidDistance(R,alpha=5,tau0 = 1,unsigned=FALSE, stretch=TRUE),type='l',lwd=3,\n",
    "     xlab=\"Correlation coefficient\", ylab=\"Sigmoid Distance\",\n",
    "    main = \"sigmoid(5, 1), unsigned, stretched\",ylim=c(0,1))\n",
    "abline(v=c(-1:1),col='grey') ; abline(h=c(0,1),col='grey')\n",
    "abline(h=0.5, lty=2, col='grey')\n"
   ]
  },
  {
   "cell_type": "code",
   "execution_count": null,
   "id": "99b6dd75-a14e-4f7a-9ef0-9bb9c8a0c6df",
   "metadata": {},
   "outputs": [],
   "source": [
    "R <- c(-100:100)/100 ; R <- ifelse(R < -1, -1, ifelse(1 < R, 1, R))\n",
    "\n",
    "par(mfrow=c(2,2))\n",
    "\n",
    "plot(R,sigmoidDistance(R,alpha=4,tau0 = 1/4,unsigned=FALSE),type='l',lwd=3,\n",
    "     xlab=\"Correlation coefficient\", ylab=\"Sigmoid Distance\",\n",
    "    main = \"sigmoid(4, 1/4), unsigned\",ylim=c(0,1))\n",
    "abline(v=c(-1:1),col='grey') ; abline(h=c(0,1),col='grey')\n",
    "abline(h=0.5, lty=2, col='grey')\n",
    "\n",
    "plot(R,sigmoidDistance(R,alpha=10,tau0 = -1/4,unsigned=FALSE),type='l',lwd=3,\n",
    "     xlab=\"Correlation coefficient\", ylab=\"Sigmoid Distance\",\n",
    "    main = \"sigmoid(10, -1/4), unsigned\",ylim=c(0,1))\n",
    "abline(v=c(-1:1),col='grey') ; abline(h=c(0,1),col='grey')\n",
    "abline(h=0.5, lty=2, col='grey')\n",
    "\n",
    "plot(R,sigmoidDistance(R,alpha=20,tau0 = 1/4,unsigned=FALSE),type='l',lwd=3,\n",
    "     xlab=\"Correlation coefficient\", ylab=\"Sigmoid Distance\",\n",
    "    main = \"sigmoid(20, 1/4), unsigned\",ylim=c(0,1))\n",
    "abline(v=c(-1:1),col='grey') ; abline(h=c(0,1),col='grey')\n",
    "abline(h=0.5, lty=2, col='grey')\n",
    "\n",
    "plot(R,sigmoidDistance(R,alpha=100,tau0 = -1/4,unsigned=FALSE),type='l',lwd=3,\n",
    "     xlab=\"Correlation coefficient\", ylab=\"Sigmoid Distance\",\n",
    "    main = \"sigmoid(100, -1/4), unsigned\",ylim=c(0,1))\n",
    "abline(v=c(-1:1),col='grey') ; abline(h=c(0,1),col='grey')\n",
    "abline(h=0.5, lty=2, col='grey')\n"
   ]
  },
  {
   "cell_type": "code",
   "execution_count": null,
   "id": "73b0efa5-b09d-4269-a3fa-ed61ab3ca599",
   "metadata": {},
   "outputs": [],
   "source": [
    "R <- c(-100:100)/100 ; R <- ifelse(R < -1, -1, ifelse(1 < R, 1, R))\n",
    "\n",
    "par(mfrow=c(2,2))\n",
    "\n",
    "plot(R,sigmoidDistance(R,alpha=1,tau0 = 1/2,unsigned=TRUE,stretch=TRUE),type='l',lwd=3,\n",
    "     xlab=\"Correlation coefficient\", ylab=\"Sigmoid Distance\",\n",
    "    main = \"sigmoid(1, 1/2), unsigned, stretched\",ylim=c(0,1))\n",
    "abline(v=c(-1:1),col='grey') ; abline(h=c(0,1),col='grey')\n",
    "abline(h=0.5, lty=2, col='grey')\n",
    "\n",
    "plot(R,sigmoidDistance(R,alpha=8,tau0 = 1,unsigned=TRUE,stretch=TRUE),type='l',lwd=3,\n",
    "     xlab=\"Correlation coefficient\", ylab=\"Sigmoid Distance\",\n",
    "    main = \"sigmoid(8, 1), unsigned, stretched\",ylim=c(0,1))\n",
    "abline(v=c(-1:1),col='grey') ; abline(h=c(0,1),col='grey')\n",
    "abline(h=0.5, lty=2, col='grey')\n",
    "\n",
    "plot(R,sigmoidDistance(R,alpha=4,tau0 = 0,unsigned=TRUE,stretch=TRUE),type='l',lwd=3,\n",
    "     xlab=\"Correlation coefficient\", ylab=\"Sigmoid Distance\",\n",
    "    main = \"sigmoid(4, 0), unsigned, stretched\",ylim=c(0,1))\n",
    "abline(v=c(-1:1),col='grey') ; abline(h=c(0,1),col='grey')\n",
    "abline(h=0.5, lty=2, col='grey')\n",
    "\n",
    "plot(R,sigmoidDistance(R,alpha=100,tau0 = 1/10,unsigned=TRUE,stretch=TRUE),type='l',lwd=3,\n",
    "     xlab=\"Correlation coefficient\", ylab=\"Sigmoid Distance\",\n",
    "    main = \"sigmoid(100, 1/10), unsigned, stretched\",ylim=c(0,1))\n",
    "abline(v=c(-1:1),col='grey') ; abline(h=c(0,1),col='grey')\n",
    "abline(h=0.5, lty=2, col='grey')\n"
   ]
  },
  {
   "cell_type": "markdown",
   "id": "f224ba37-cf46-430c-9604-d39213d10c24",
   "metadata": {},
   "source": [
    "# Examples of estimateShape.R"
   ]
  },
  {
   "cell_type": "markdown",
   "id": "6b74c018-2990-4720-b630-78e2c2b18c6b",
   "metadata": {},
   "source": [
    "The first example estimates the parameters of an (asymmetric) Beta distribution ${\\rm Beta}(v,w)$ from data generated entirely from a null distribution of correlations among vectors of length $D = 50$. Theoretically, this distribution should be ${\\rm Beta}(v,v), v = D/2 - 1 = 24$; This example shows that estimateShape() does a good job of fitting this data."
   ]
  },
  {
   "cell_type": "code",
   "execution_count": null,
   "id": "f2199c4d-c471-4f4b-a5bb-aca5534a2208",
   "metadata": {},
   "outputs": [],
   "source": [
    "Samples <- 1000\n",
    "Dimensions <- 50\n",
    "M <- Matrix(rnorm(Dimensions*Samples),nrow=Dimensions,ncol=Samples,sparse=TRUE)\n",
    "Z <- SparseSpearmanCor2(M)\n",
    "\n",
    "beta.shape <- estimateShape(Z[row(Z) < col(Z)], plot=TRUE)\n",
    "title(paste(round(beta.shape,2),collapse=\", \"),line=0.5)\n",
    "#text(x=-0.5,y=2.0,labels=paste(\"D/2 - 1 = \",round(Dimensions/2-1, 2)),adj = 1/2)\n",
    "\n",
    "R <- c(-100:100)/100 ; R <-ifelse(-1 < R, ifelse(R < 1, R, 1), -1) # Ensure R in [-1,1]\n",
    "\n",
    "x     <- (1+Z[row(Z) < col(Z)])/2\n",
    "x.mu  <- mean(x)\n",
    "x.var <- var(x)\n",
    "z.mm <- x.mu*(1-x.mu) / x.var - 1\n",
    "v.mm <- x.mu * z.mm\n",
    "w.mm <- (1-x.mu) * z.mm\n",
    "\n",
    "lines(R,dbeta((1+R)/2, v.mm, w.mm)/2, lwd=3, col='forestgreen')\n",
    "text(x=0.5,y=c(2.1,2),\n",
    "     labels=c(\"Method of Moments\",paste(\"Beta(\",round(v.mm, 2),\",\",round(w.mm,2),\")\",sep='')),\n",
    "     col='forestgreen',adj = 1/2)\n"
   ]
  },
  {
   "cell_type": "markdown",
   "id": "960920cb-7d49-4b35-9e4b-3f8d18f17083",
   "metadata": {},
   "source": [
    "The second example below estimates the parameters of a null model for the same data, except that 20% of the vectors are now 50% correlated to each other. These correlations, which are not from the null model, involve 4% of all unique, non-identical pairs. The null model, representing the other 96% of the pairs, should be identical to the previous example. In this example, we can see that the Method of Moments estimate, which is perfectly appropriate for the first example, tries to include all correlations rather than just those from the null model. As a result, the fitted distribution does not reflect the null model very well. In contrast, estimateShape() does much better at modeling just the correlations that are truly from the null model."
   ]
  },
  {
   "cell_type": "code",
   "execution_count": null,
   "id": "6faa9d84-4c87-46cb-a02d-f2f5b7383892",
   "metadata": {},
   "outputs": [],
   "source": [
    "Samples <- 1000\n",
    "Dimensions <- 50\n",
    "M <- Matrix(rnorm(Dimensions*Samples),nrow=Dimensions,ncol=Samples,sparse=TRUE)\n",
    "Altered <- 200 # This 5% of the samples are officially \"outliers\"\n",
    "r <- 0.5\n",
    "M[,c(1:Altered)] <- (1-r) * M[,c(1:Altered)] + r*M[,Altered+1]\n",
    "Z <- SparseSpearmanCor2(M)\n",
    "beta.shape <- estimateShape(Z[row(Z) < col(Z)], plot=TRUE)\n",
    "title(paste(\"Beta(\",paste(round(beta.shape,2),collapse=\", \"),\")\",sep=''),line=0.5)\n",
    "#text(x=-0.5,y=2.0,labels=paste(\"D/2 - 1 = \",round(Dimensions/2-1, 2)),adj = 1/2)\n",
    "\n",
    "R <- c(-100:100)/100 ; R <-ifelse(-1 < R, ifelse(R < 1, R, 1), -1) # Ensure R in [-1,1]\n",
    "\n",
    "x     <- (1+Z[row(Z) < col(Z)])/2\n",
    "x.mu  <- mean(x)\n",
    "x.var <- var(x)\n",
    "z.mm <- x.mu*(1-x.mu) / x.var - 1\n",
    "v.mm <- x.mu * z.mm\n",
    "w.mm <- (1-x.mu) * z.mm\n",
    "\n",
    "lines(R,dbeta((1+R)/2, v.mm, w.mm)/2, lwd=3, col='forestgreen')\n",
    "text(x=0.5,y=c(2.1,2),\n",
    "     labels=c(\"Method of Moments\",paste(\"Beta(\",round(v.mm, 2),\",\",round(w.mm,2),\")\",sep='')),\n",
    "     col='forestgreen',adj = 1/2)\n"
   ]
  },
  {
   "cell_type": "markdown",
   "id": "e3268642-9789-4448-9e08-3219fa8413e0",
   "metadata": {},
   "source": [
    "In our third example, we show the difference between using the null model directly as a distance versus using the null model as a penalty on top of the typical Euclidean distance corresponding to a corrolation coefficient. The betaDistance() function penalizes correlation coefficients which are likely under the null model, but doesn't penalize correlation coefficients which are larger than those predicted by the null model. Without including the Euclidean distance, there is essentially no distance between highly correlated pairs; but by including the Euclidean distance, highly correlated pairs can still be separated by their degree of correlation."
   ]
  },
  {
   "cell_type": "code",
   "execution_count": null,
   "id": "3a340dd1-07df-41ab-a077-3cab842950b3",
   "metadata": {},
   "outputs": [],
   "source": [
    "v <- mean(beta.shape) # Expect v = (D-1)/2 = 24.5\n",
    "v.name <- paste(\"Beta(\",paste(round(c(v,v),2),collapse=\", \"),\")\",sep='')\n",
    "plot(R,betaDistance(R, v, v, mix=0), type='l',lwd=3,\n",
    "     xlab=\"Correlation coefficient\", ylab=\"Distance Penalty\",\n",
    "    main = paste(v.name,\"penalty\"))\n",
    "abline(h=c(-1:1),col='grey') ; abline(v=c(0,1),col='grey')\n",
    "\n",
    "plot(R,betaDistance(R, v, v, mix=1),type='l',lwd=3,\n",
    "     xlab=\"Correlation coefficient\", ylab=\"Relative Distance\",\n",
    "    main = c(\"Euclidean distance squared mixed with\",\n",
    "             paste(v.name, \"penalty\")))\n",
    "abline(h=c(-1:1),col='grey') ; abline(v=c(0,1),col='grey')"
   ]
  },
  {
   "cell_type": "markdown",
   "id": "6cfe7085-416a-4ee2-964b-47c46f0d17a5",
   "metadata": {
    "editable": true,
    "slideshow": {
     "slide_type": ""
    },
    "tags": []
   },
   "source": [
    "# Automated handling of multi-omic data"
   ]
  },
  {
   "cell_type": "code",
   "execution_count": null,
   "id": "90d1752a-c045-48ca-b24e-7965456b6f8c",
   "metadata": {
    "editable": true,
    "slideshow": {
     "slide_type": ""
    },
    "tags": []
   },
   "outputs": [],
   "source": [
    "data('synth_LC')\n",
    "names(synth_LC) <- c('Metadata','Metabolomics','Proteomics')\n"
   ]
  },
  {
   "cell_type": "code",
   "execution_count": null,
   "id": "487a18ce-16d1-4e17-9ad0-d8d1d81c981b",
   "metadata": {},
   "outputs": [],
   "source": [
    "xtabs(~ synth_LC[['Metadata']]$CASE)\n",
    "println('Metabolomics',paste(dim(synth_LC[['Metabolomics']]),collapse=' x '))\n",
    "println('Proteoomics',paste(dim(synth_LC[['Proteomics']]),collapse=' x '))"
   ]
  },
  {
   "cell_type": "code",
   "execution_count": null,
   "id": "71cf0af7-8093-47d4-b4b4-0961dff47f99",
   "metadata": {},
   "outputs": [],
   "source": [
    "Z.met <- SparseSpearmanCor2(as.matrix(synth_LC[['Metabolomics']]))\n",
    "dim(Z.met)\n",
    "length(which(is.na(Z.met)))\n",
    "range(Z.met,na.rm=TRUE)"
   ]
  },
  {
   "cell_type": "code",
   "execution_count": null,
   "id": "5a9790db-9da7-43be-be5a-85759c6ebcbd",
   "metadata": {},
   "outputs": [],
   "source": [
    "shape.Met <- estimateShape(Z.met[row(Z.met) < col(Z.met)], plot=TRUE)\n",
    "title(paste('Metabolite correlations',paste(round(shape.Met,2),collapse=\", \")),line=0.5)\n",
    "#text(x=-0.5,y=2.0,labels=paste(\"D/2 - 1 = \",round(Dimensions/2-1, 2)),adj = 1/2)"
   ]
  },
  {
   "cell_type": "code",
   "execution_count": null,
   "id": "eafa9f00-26b9-4ab9-8a82-64e9218966ef",
   "metadata": {},
   "outputs": [],
   "source": [
    "Z.prot <- SparseSpearmanCor2(as.matrix(synth_LC[['Proteomics']]))\n",
    "println(\"Proteomics correlation matrix\",paste(dim(Z.prot),collapse=' x '))\n",
    "println(length(which(is.na(Z.prot))),'na values')\n",
    "println(paste(range(Z.prot,na.rm=TRUE),collapse=\" <= cor <= \"))"
   ]
  },
  {
   "cell_type": "code",
   "execution_count": null,
   "id": "eb7719cd-4e62-4873-9517-3c3bb09738cf",
   "metadata": {},
   "outputs": [],
   "source": [
    "shape.prot <- estimateShape(Z.prot[row(Z.prot) < col(Z.prot)], plot=TRUE)\n",
    "title(paste('Protein correlations',paste(round(shape.prot,2),collapse=\", \")),line=0.5)"
   ]
  },
  {
   "cell_type": "code",
   "execution_count": null,
   "id": "f8ced1fb-9e4a-4a81-b8d5-aab07923f358",
   "metadata": {
    "editable": true,
    "slideshow": {
     "slide_type": ""
    },
    "tags": []
   },
   "outputs": [],
   "source": [
    "N <- dim(synth_LC[['Metabolomics']])[2]\n",
    "Met <- as.matrix(synth_LC[['Metabolomics']][,2:N])\n",
    "rownames(Met) <- as.character(synth_LC[['Metabolomics']][,1])"
   ]
  },
  {
   "cell_type": "code",
   "execution_count": null,
   "id": "9247d867-9b86-4f56-80fa-0df959510297",
   "metadata": {
    "editable": true,
    "slideshow": {
     "slide_type": ""
    },
    "tags": []
   },
   "outputs": [],
   "source": [
    "N <- dim(synth_LC[['Proteomics']])[2]\n",
    "Prot <- as.matrix(synth_LC[['Proteomics']][,2:N])\n",
    "rownames(Prot) <- as.character(synth_LC[['Proteomics']][,1])"
   ]
  },
  {
   "cell_type": "code",
   "execution_count": null,
   "id": "f2c005d8-0991-4161-a2db-488f69ee4108",
   "metadata": {},
   "outputs": [],
   "source": [
    "# Both datasets are internal\n",
    "par(mfrow=c(2,2))\n",
    "L <- multiOmicModel(list(met = Met, prot = Prot), plot=TRUE, annotate=TRUE, fine=30)\n",
    "\n",
    "Z <- standardizeFromModel(L$modelL, L$analyteL, v.std = 32)\n",
    "shape <- estimateShape(Z[row(Z) < col(Z)], plot=TRUE, main = \"Standardized\", fine=30)\n",
    "title(paste(round(shape,1),collapse = \", \"), line = 0.5)"
   ]
  },
  {
   "cell_type": "code",
   "execution_count": null,
   "id": "b7c4028c-ebc9-4bd2-b2e6-af0ed5b3ea0c",
   "metadata": {
    "editable": true,
    "slideshow": {
     "slide_type": ""
    },
    "tags": []
   },
   "outputs": [],
   "source": [
    "saveRDS(Met,\"TestMetabolites.rds\")\n",
    "saveRDS(Prot,\"TestProteins.rds\")"
   ]
  },
  {
   "cell_type": "code",
   "execution_count": null,
   "id": "e73d1a92-2a6a-4949-8b96-756e71464d59",
   "metadata": {},
   "outputs": [],
   "source": [
    "# One mix of internal and external datasets\n",
    "par(mfrow=c(2,2))\n",
    "L <- multiOmicModel(list(met = Met,\n",
    "                         PROT = \"TestProteins.rds\"),\n",
    "                    plot=TRUE, annotate=TRUE, fine=30)"
   ]
  },
  {
   "cell_type": "code",
   "execution_count": null,
   "id": "c5dc54df-cae6-4bcd-bf69-39d56ed4ce8e",
   "metadata": {},
   "outputs": [],
   "source": [
    "Z <- standardizeFromModel(L$modelL, L$analyteL, v.std = 32)\n",
    "shape <- estimateShape(Z[row(Z) < col(Z)], plot=TRUE, main = \"Standardized\", fine=30)\n",
    "title(paste(round(shape,1),collapse = \", \"), line = 0.5)"
   ]
  },
  {
   "cell_type": "code",
   "execution_count": null,
   "id": "6726c031-72fc-4a93-b9f5-35c6b2b24214",
   "metadata": {},
   "outputs": [],
   "source": [
    "# The other mix of external and internal datasets\n",
    "par(mfrow=c(2,2))\n",
    "L <- multiOmicModel(list(MET = \"TestMetabolites.rds\",\n",
    "                         prot = Prot),\n",
    "                    plot=TRUE, annotate=TRUE, fine=30)"
   ]
  },
  {
   "cell_type": "code",
   "execution_count": null,
   "id": "3746abd1-3f41-4e83-bdd5-36ac86482ed1",
   "metadata": {},
   "outputs": [],
   "source": [
    "Z <- standardizeFromModel(L$modelL, L$analyteL, v.std = 32)\n",
    "shape <- estimateShape(Z[row(Z) < col(Z)], plot=TRUE, main = \"Standardized\", fine=30)\n",
    "title(paste(round(shape,1),collapse = \", \"), line = 0.5)"
   ]
  },
  {
   "cell_type": "code",
   "execution_count": null,
   "id": "e0253fb1-c3eb-41ad-974f-c2931537c8e6",
   "metadata": {},
   "outputs": [],
   "source": [
    "# Both datasets are external\n",
    "par(mfrow=c(2,2))\n",
    "L <- multiOmicModel(list(MET = \"TestMetabolites.rds\",\n",
    "                         PROT = \"TestProteins.rds\"),\n",
    "                    plot=TRUE, annotate=TRUE, fine=30)"
   ]
  },
  {
   "cell_type": "code",
   "execution_count": null,
   "id": "3a997924-e052-4aa8-ab96-722a4130e662",
   "metadata": {},
   "outputs": [],
   "source": [
    "Z <- standardizeFromModel(L$modelL, L$analyteL, v.std = 32)\n",
    "shape <- estimateShape(Z[row(Z) < col(Z)], plot=TRUE, main = \"Standardized\", fine=30)\n",
    "title(paste(round(shape,1),collapse = \", \"), line = 0.5)"
   ]
  },
  {
   "cell_type": "code",
   "execution_count": null,
   "id": "c965e2f2-fc8a-4827-9d81-f05211c8606e",
   "metadata": {},
   "outputs": [],
   "source": []
  }
 ],
 "metadata": {
  "kernelspec": {
   "display_name": "R",
   "language": "R",
   "name": "ir"
  },
  "language_info": {
   "codemirror_mode": "r",
   "file_extension": ".r",
   "mimetype": "text/x-r-source",
   "name": "R",
   "pygments_lexer": "r",
   "version": "4.2.1"
  }
 },
 "nbformat": 4,
 "nbformat_minor": 5
}
